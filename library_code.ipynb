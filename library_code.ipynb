{
  "nbformat": 4,
  "nbformat_minor": 0,
  "metadata": {
    "colab": {
      "provenance": [],
      "authorship_tag": "ABX9TyO9rKr8z4L/AaYx0/OmVGV9",
      "include_colab_link": true
    },
    "kernelspec": {
      "name": "python3",
      "display_name": "Python 3"
    },
    "language_info": {
      "name": "python"
    }
  },
  "cells": [
    {
      "cell_type": "markdown",
      "metadata": {
        "id": "view-in-github",
        "colab_type": "text"
      },
      "source": [
        "<a href=\"https://colab.research.google.com/github/ali-talebi/Project_Manage_Library/blob/main/library_code.ipynb\" target=\"_parent\"><img src=\"https://colab.research.google.com/assets/colab-badge.svg\" alt=\"Open In Colab\"/></a>"
      ]
    },
    {
      "cell_type": "code",
      "execution_count": 3,
      "metadata": {
        "id": "20T8q4aUS3Hd"
      },
      "outputs": [],
      "source": [
        "class Person():\n",
        "  All_person = []\n",
        "  def __init__(self , name , family , code , father_name ) : \n",
        "    self.name = name \n",
        "    self.family = family \n",
        "    self.code = code \n",
        "    self.books_gather = []\n",
        "    self.father_name = father_name \n",
        "    Person.All_person.append(self)\n",
        "  def __repr__(self) : \n",
        "    return f'{self.__class__.__name__}({self.name},{self.family},{self.father_name},{self.code})'\n",
        "\n",
        "\n",
        "\n",
        "class Book():\n",
        "  All_Book = []\n",
        "  def __init__(self , name_book , writer , year = 2000 ):\n",
        "    self.name_book = name_book \n",
        "    self.writer = writer \n",
        "    self.year = year \n",
        "    Book.All_Book.append(self)\n",
        "\n",
        "\n",
        "  def __repr__(self) : \n",
        "    return f'{self.__class__.__name__}({self.name_book},{self.writer},{self.year})'\n",
        "\n",
        "class Library() :\n",
        "  All_Library = [] \n",
        "  _id = 0\n",
        "  def __init__(self , name , city  , province ) : \n",
        "    self.name = name \n",
        "    self.city = city \n",
        "    self.members = []\n",
        "    self.books = []\n",
        "    self.code_id = Library._id +  1 \n",
        "    Library._id += 1 \n",
        "    self.province = province\n",
        "    Library.All_Library.append(self) \n",
        "    \n",
        "  def __repr__(self) : \n",
        "    return f'{self.__class__.__name__}({self.name},{self.city},{self.code_id})'\n",
        "\n",
        "  def addMember(self , obj ) : \n",
        "    self.members.append(obj)\n",
        "\n",
        "  def Show_Members(self) : \n",
        "    for i in self.members : \n",
        "      print(i)\n"
      ]
    },
    {
      "cell_type": "code",
      "source": [],
      "metadata": {
        "id": "iUqGNa9Uxqx2"
      },
      "execution_count": 3,
      "outputs": []
    },
    {
      "cell_type": "code",
      "source": [
        "def Add_Person(Name , Family , code_melli , Father_Name ) : \n",
        "  \"\"\"\n",
        "  This Is a Function For Create Person . \n",
        "  \"\"\"\n",
        "  for i in Person.All_person : \n",
        "    if i.name == Name and i.family == Family and i.code == code and i.father_name == Father_Name : \n",
        "      raise Exception(\"This User is Exist \" ) \n",
        "  else : \n",
        "    Person(Name.lower() , Family.lower() , str(code_melli) , Father_Name.lower())\n",
        "\n",
        "def Add_Book(name_book , writer , year = 2000 ):\n",
        "  \"\"\"\n",
        "  This Is a Function For Create Book .\n",
        "  \"\"\"\n",
        "  Book(name_book.lower() , writer.lower() , year = 2000)\n",
        "  print(f\"This Book({name_book}) added Successfully \")\n",
        "\n",
        "def Add_Library(name , city  , province) : \n",
        "  \"\"\"\n",
        "  This is a Function For Create Library .\n",
        "  \"\"\"\n",
        "  Library(name , city  , province)\n",
        "\n",
        "\n",
        "def Find_Library(Name_Search , City , Province ) : \n",
        "  for i in Library.All_Library : \n",
        "    if i.name == Name_Search and i.city == City and i.province == Province : \n",
        "      return i \n",
        "      break \n",
        "  else : \n",
        "    raise Exception(f\"We Can not Find Library with Name {Name_Search} in {City} city . \")\n",
        "\n",
        "\n",
        "\n",
        "\n",
        "\n",
        "def Find_Book(name_book , writer , year = 2000) : \n",
        "  for i in Book.All_Book : \n",
        "    if i.name_book == name_book and i.writer == writer and i.year == year : \n",
        "      return i \n",
        "      break \n",
        "  else : \n",
        "    raise Exception(\"The Name or Writer is Not valid . \")\n",
        "\n",
        "\n",
        "\n",
        "\n",
        "\n",
        "def Find_Book_Library( obj_library , name_book , writer ) : \n",
        "  for i in obj_library.books :\n",
        "    if i['object'].name_book == name_book and i['object'].writer == writer :\n",
        "      if i['status'] == \"Y\" : \n",
        "        return i['object']\n",
        "        break\n",
        "      else : \n",
        "        raise Exception(\"This Book is Amanat \")\n",
        "\n",
        "  else :\n",
        "    raise Exception(\"This Book Is Not Exist in The Library \") \n",
        "  \n",
        "\n",
        "def Find_Person(Code_melli ) : \n",
        "  for i in Person.All_person : \n",
        "    if i.code == Code_melli : \n",
        "      return i \n",
        "      break \n",
        "  else : \n",
        "    raise Exception (\"This Code_Melli Is Not Correct ! \")\n",
        "\n",
        "\n",
        "\n",
        "\n",
        "\n",
        "def Show_list_Book(obj_library) : \n",
        "  pass \n",
        "\n"
      ],
      "metadata": {
        "id": "mRpSW1ryZ1zG"
      },
      "execution_count": 4,
      "outputs": []
    },
    {
      "cell_type": "code",
      "source": [],
      "metadata": {
        "id": "SuVcFRdCxp-u"
      },
      "execution_count": null,
      "outputs": []
    },
    {
      "cell_type": "code",
      "source": [],
      "metadata": {
        "id": "0juwIeHgxqDe"
      },
      "execution_count": null,
      "outputs": []
    },
    {
      "cell_type": "code",
      "source": [
        "while 1 : \n",
        "  vorodi = int(input(\"1.Create Library \\n2.Add_Member \\n3.Take Book \\n4.Show Members \\n5.Add Person  \\n6.Create Book \\n7.Add Book To Library \\n8.Exit \"))\n",
        "  if vorodi == 1 : \n",
        "    name  , city  , province = input(\"please Enter name library and city library and province library \").split(\" \")\n",
        "    Add_Library(name , city , province )\n",
        "\n",
        "  elif vorodi == 2 : \n",
        "    Name_Search , City , Province = input(\"name_library , city , province \").split(\" \")\n",
        "    try : \n",
        "      obj_library = Find_Library(Name_Search , City , Province)\n",
        "      response_code = input(\"please enter Code Melli \")\n",
        "      obj_person = Find_Person(response_code)\n",
        "      obj_library.addMember(obj_person)\n",
        "    except Exception as e :\n",
        "      print(e) \n",
        "\n",
        "\n",
        "\n",
        "  elif vorodi == 3 : \n",
        "    try : \n",
        "      name_book , writer , year = input(\"please Enter Name_book , Writer , year \").split(\" \")\n",
        "      Name_Search , City , Province = input(\"name_library , city , province \").split(\" \")\n",
        "      obj_library = Find_Library(Name_Search , City , Province)\n",
        "      obj_book = Find_Book_Library(obj_library , name_book , writer )\n",
        "      code_melli = input(\"Please Enter Code Melli \")\n",
        "      obj_person.books_gather(obj_book)\n",
        "      obj_person = Find_Person(code_melli)\n",
        "    except Exception as e :\n",
        "      print(e) \n",
        "\n",
        "\n",
        "  elif vorodi == 4 : \n",
        "    name_library , city , province = input(\"please Enter name_library , city , province \").split(\" \")\n",
        "    try : \n",
        "      obj_library = Find_Library(Name_Search , City , Province)\n",
        "      for i in obj_library.members : \n",
        "        print(i)\n",
        "      \n",
        "    except Exception as e :\n",
        "      print(e) \n",
        "\n",
        "  \n",
        "  elif vorodi == 5 : \n",
        "    Name , Family , code_melli , Father_Name = input(\"please Enter Name , Family , code melli , Father Name  \").split(\" \")\n",
        "\n",
        "    try : \n",
        "      Add_Person(Name , Family , code_melli , Father_Name )\n",
        "\n",
        "    except Exception as e :\n",
        "      print(e) \n",
        "\n",
        "\n",
        "  elif vorodi == 6 : \n",
        "    name_book , writer , year  = input(\"please Enter Name Book , Writer , year : \" ).split(\" \")\n",
        "    Add_Book(name_book , writer , year )\n",
        "\n",
        "\n",
        "\n",
        "  elif vorodi == 7 : \n",
        "    try : \n",
        "      name_book , writer , year = input(\"please Enter Name_book , Writer , year \").split(\" \")\n",
        "      obj_book = Find_Book(name_book , writer , year)\n",
        "      Name_Search , City , Province = input(\"name_library , city , province \").split(\" \")\n",
        "      obj_library = Find_Library(Name_Search , City , Province)\n",
        "      obj_library.books.append({'obj':obj_book , 'status' : 'Y'})\n",
        "    except Exception as e : \n",
        "      print(e)\n",
        "\n",
        "\n",
        "  elif vorodi == 8 : \n",
        "    print(\"Bye Bye :) \")\n",
        "\n",
        "    break \n",
        "\n",
        "  print(\"----------\"*6)"
      ],
      "metadata": {
        "colab": {
          "base_uri": "https://localhost:8080/"
        },
        "id": "VmIeNhJ7WGUc",
        "outputId": "81f66024-6cad-4314-8bcd-d5f13fbaac4c"
      },
      "execution_count": 5,
      "outputs": [
        {
          "output_type": "stream",
          "name": "stdout",
          "text": [
            "1.Create Library \n",
            "2.Add_Member \n",
            "3.Take Book \n",
            "4.Show Members \n",
            "5.Add Person  \n",
            "6.Create Book \n",
            "7.Add Book To Library \n",
            "8.Exit 1\n",
            "please Enter name library and city library and province library Alborz Shahrood Semnan\n",
            "------------------------------------------------------------\n",
            "1.Create Library \n",
            "2.Add_Member \n",
            "3.Take Book \n",
            "4.Show Members \n",
            "5.Add Person  \n",
            "6.Create Book \n",
            "7.Add Book To Library \n",
            "8.Exit 5\n",
            "please Enter Name , Family , code melli , Father Name  Ali Talebi 4013628025 Qasem\n",
            "------------------------------------------------------------\n",
            "1.Create Library \n",
            "2.Add_Member \n",
            "3.Take Book \n",
            "4.Show Members \n",
            "5.Add Person  \n",
            "6.Create Book \n",
            "7.Add Book To Library \n",
            "8.Exit 2\n",
            "name_library , city , province Alborz Shahrood Semnan\n",
            "please enter Code Melli 4013628019\n",
            "This Code_Melli Is Not Correct ! \n",
            "------------------------------------------------------------\n",
            "1.Create Library \n",
            "2.Add_Member \n",
            "3.Take Book \n",
            "4.Show Members \n",
            "5.Add Person  \n",
            "6.Create Book \n",
            "7.Add Book To Library \n",
            "8.Exit 2\n",
            "name_library , city , province Alborz Shahrood Semnan\n",
            "please enter Code Melli 4013628025\n",
            "------------------------------------------------------------\n",
            "1.Create Library \n",
            "2.Add_Member \n",
            "3.Take Book \n",
            "4.Show Members \n",
            "5.Add Person  \n",
            "6.Create Book \n",
            "7.Add Book To Library \n",
            "8.Exit 4\n",
            "please Enter name_library , city , province Alborz Shahrood Semnan\n",
            "Person(ali,talebi,qasem,4013628025)\n",
            "------------------------------------------------------------\n",
            "1.Create Library \n",
            "2.Add_Member \n",
            "3.Take Book \n",
            "4.Show Members \n",
            "5.Add Person  \n",
            "6.Create Book \n",
            "7.Add Book To Library \n",
            "8.Exit 6\n",
            "please Enter Name Book , Writer , year : English_book1 Ali-talebi 2022\n",
            "This Book(English_book1) added Successfully \n",
            "------------------------------------------------------------\n",
            "1.Create Library \n",
            "2.Add_Member \n",
            "3.Take Book \n",
            "4.Show Members \n",
            "5.Add Person  \n",
            "6.Create Book \n",
            "7.Add Book To Library \n",
            "8.Exit 7\n",
            "please Enter Name_book , Writer , year English_book1 Ali-talebi 2022\n",
            "The Name or Writer is Not valid . \n",
            "------------------------------------------------------------\n",
            "1.Create Library \n",
            "2.Add_Member \n",
            "3.Take Book \n",
            "4.Show Members \n",
            "5.Add Person  \n",
            "6.Create Book \n",
            "7.Add Book To Library \n",
            "8.Exit 3\n",
            "please Enter Name_book , Writer , year English_book1 Ali-talebi 2022\n",
            "name_library , city , province Alborz Shahrood Semnan\n",
            "This Book Is Not Exist in The Library \n",
            "------------------------------------------------------------\n",
            "1.Create Library \n",
            "2.Add_Member \n",
            "3.Take Book \n",
            "4.Show Members \n",
            "5.Add Person  \n",
            "6.Create Book \n",
            "7.Add Book To Library \n",
            "8.Exit 4\n",
            "please Enter name_library , city , province Alborz Shahrood Semnan\n",
            "Person(ali,talebi,qasem,4013628025)\n",
            "------------------------------------------------------------\n",
            "1.Create Library \n",
            "2.Add_Member \n",
            "3.Take Book \n",
            "4.Show Members \n",
            "5.Add Person  \n",
            "6.Create Book \n",
            "7.Add Book To Library \n",
            "8.Exit 8\n",
            "Bye Bye :) \n"
          ]
        }
      ]
    },
    {
      "cell_type": "code",
      "source": [
        "for i in Library.All_Library : \n",
        "  print(i)"
      ],
      "metadata": {
        "id": "WdqWjAxiWJSc",
        "colab": {
          "base_uri": "https://localhost:8080/"
        },
        "outputId": "d3dcb5eb-02b2-40b1-df67-8f6ac8b22af7"
      },
      "execution_count": 6,
      "outputs": [
        {
          "output_type": "stream",
          "name": "stdout",
          "text": [
            "Library(Alborz,Shahrood,1)\n"
          ]
        }
      ]
    },
    {
      "cell_type": "code",
      "source": [
        "for i in Person.All_person : \n",
        "  print(i.__dict__)"
      ],
      "metadata": {
        "id": "oyKgjvJjWljt",
        "colab": {
          "base_uri": "https://localhost:8080/"
        },
        "outputId": "7ca37d7f-0844-49a5-c85f-5c833377ec9c"
      },
      "execution_count": 8,
      "outputs": [
        {
          "output_type": "stream",
          "name": "stdout",
          "text": [
            "{'name': 'ali', 'family': 'talebi', 'code': '4013628025', 'books_gather': [], 'father_name': 'qasem'}\n"
          ]
        }
      ]
    },
    {
      "cell_type": "code",
      "source": [
        "for i in Book.All_Book : \n",
        "  print(i.__dict__)"
      ],
      "metadata": {
        "id": "sUaIj0_MWnfG",
        "colab": {
          "base_uri": "https://localhost:8080/"
        },
        "outputId": "b976a280-e8b5-4df9-cc4a-f13960b9a774"
      },
      "execution_count": 10,
      "outputs": [
        {
          "output_type": "stream",
          "name": "stdout",
          "text": [
            "{'name_book': 'english_book1', 'writer': 'ali-talebi', 'year': 2000}\n"
          ]
        }
      ]
    },
    {
      "cell_type": "code",
      "source": [],
      "metadata": {
        "id": "FT4_iSPKYK28"
      },
      "execution_count": null,
      "outputs": []
    }
  ]
}